{
 "cells": [
  {
   "cell_type": "code",
   "execution_count": 1,
   "metadata": {},
   "outputs": [],
   "source": [
    "import os\n",
    "import torch\n",
    "import numpy as np\n",
    "from code_deepQueueNet.attention import SelfAttention\n",
    "from code_deepQueueNet.model import DeepQueueNet\n",
    "import torch.nn as nn\n",
    "import numpy as np\n",
    "from code_deepQueueNet.config import BaseConfig, modelConfig"
   ]
  },
  {
   "cell_type": "code",
   "execution_count": 2,
   "metadata": {},
   "outputs": [
    {
     "data": {
      "text/plain": [
       "<All keys matched successfully>"
      ]
     },
     "execution_count": 2,
     "metadata": {},
     "output_type": "execute_result"
    }
   ],
   "source": [
    "device = torch.cuda.set_device(0)\n",
    "device_id = 0\n",
    "#state_path = \"/net/kihara/scratch/zhang038/CS536_project/saved_models_l2/best_epoch_5.ckpt\"\n",
    "state_path = '/net/kihara/scratch/zhang038/CS536_project/saved_models/best_epoch_100'\n",
    "base_config = BaseConfig()\n",
    "model_config = modelConfig()\n",
    "model = DeepQueueNet(config=BaseConfig, device=device)\n",
    "model.to(device)\n",
    "model.eval()\n",
    "model.load_state_dict(torch.load(state_path)['state_dict'])\n"
   ]
  },
  {
   "cell_type": "code",
   "execution_count": 3,
   "metadata": {},
   "outputs": [],
   "source": [
    "import h5py\n",
    "def load_sample(task, file):\n",
    "    with h5py.File(file, 'r') as hdf:\n",
    "        x = hdf['x'][:]\n",
    "        y = hdf['y'][:]\n",
    "    return x, y\n"
   ]
  },
  {
   "cell_type": "code",
   "execution_count": 36,
   "metadata": {},
   "outputs": [],
   "source": [
    "x1,y1=load_sample('test1', './data/4-port switch/FIFO/_hdf/test1.h5')\n",
    "x2,y2=load_sample('test2', './data/4-port switch/FIFO/_hdf/test2.h5')\n",
    "#x,y=load_sample('train', './data/4-port switch/FIFO/_hdf/train.h5')"
   ]
  },
  {
   "cell_type": "code",
   "execution_count": 5,
   "metadata": {},
   "outputs": [],
   "source": [
    "x,y  =load_sample('train', model_config.train_sample)\n",
    "x1,y1=load_sample('test1', model_config.test1_sample)\n",
    "x2,y2=load_sample('test2', model_config.test2_sample)"
   ]
  },
  {
   "cell_type": "code",
   "execution_count": 7,
   "metadata": {},
   "outputs": [],
   "source": [
    "y_pred = []\n",
    "batch_size = 1024\n",
    "x = torch.from_numpy(x).float()\n",
    "chuncked_x = torch.split(x, batch_size,0)\n",
    "for sample in chuncked_x:\n",
    "    sample = sample.to(device)\n",
    "    y_pred.extend(model(sample).detach().cpu().numpy())"
   ]
  },
  {
   "cell_type": "code",
   "execution_count": 8,
   "metadata": {},
   "outputs": [],
   "source": [
    "y_pred = np.array(y_pred)\n",
    "np.save(\"y_pred.npy\",y_pred)"
   ]
  },
  {
   "cell_type": "code",
   "execution_count": 18,
   "metadata": {},
   "outputs": [
    {
     "data": {
      "text/plain": [
       "114247"
      ]
     },
     "execution_count": 18,
     "metadata": {},
     "output_type": "execute_result"
    }
   ],
   "source": [
    "# x = torch.from_numpy(x).float().to(device)\n",
    "# y_pred = model(x)\n",
    "# y_pred = y_pred.detach().cpu().numpy()\n",
    "\n",
    "# print(y_pred)\n"
   ]
  },
  {
   "cell_type": "code",
   "execution_count": 5,
   "metadata": {},
   "outputs": [],
   "source": [
    "y1_pred = []\n",
    "batch_size = 1024\n",
    "x1 = torch.from_numpy(x1).float()\n",
    "chuncked_x1 = torch.split(x1, batch_size,0)\n",
    "for sample in chuncked_x1:\n",
    "    sample = sample.to(device)\n",
    "    y1_pred.extend(model(sample).detach().cpu().numpy())"
   ]
  },
  {
   "cell_type": "code",
   "execution_count": 10,
   "metadata": {},
   "outputs": [],
   "source": [
    "y1_pred = np.array(y1_pred)\n",
    "np.save(\"y1_pred.npy\",y1_pred)"
   ]
  },
  {
   "cell_type": "code",
   "execution_count": 6,
   "metadata": {},
   "outputs": [],
   "source": [
    "y2_pred = []\n",
    "x2 = torch.from_numpy(x2).float()\n",
    "chuncked_x2 = torch.split(x2, batch_size,0)\n",
    "for sample in chuncked_x2:\n",
    "    sample = sample.to(device)\n",
    "    y2_pred.extend(model(sample).detach().cpu().numpy())\n",
    "y2_pred = np.array(y2_pred)\n",
    "np.save(\"y2_pred.npy\",y2_pred)"
   ]
  },
  {
   "cell_type": "code",
   "execution_count": 7,
   "metadata": {},
   "outputs": [],
   "source": [
    "import pandas as pd\n",
    "def load_scaler(folder):\n",
    "    x_MIN=pd.read_csv(folder+'/x_MIN.csv', names=['key','value']).set_index('key')['value']\n",
    "    x_MAX=pd.read_csv(folder+'/x_MAX.csv', names=['key','value']).set_index('key')['value']\n",
    "    y_MIN=pd.read_csv(folder+'/y_MIN.csv', names=['key','value']).set_index('key')['value']\n",
    "    y_MAX=pd.read_csv(folder+'/y_MAX.csv', names=['key','value']).set_index('key')['value']\n",
    "    fet_cols=list(x_MIN.keys())\n",
    "    target=list(y_MIN.keys())\n",
    "    return x_MIN, x_MAX, y_MIN, y_MAX, fet_cols, target"
   ]
  },
  {
   "cell_type": "code",
   "execution_count": 8,
   "metadata": {},
   "outputs": [],
   "source": [
    "folder = './data/{}/_scaler'.format(base_config.modelname)\n",
    "folder = './data/{}/_scaler'.format(base_config.modelname)\n",
    "x_MIN, x_MAX, y_MIN, y_MAX, fet_cols, target = load_scaler(folder)\n",
    "y_MAX=y_MAX['time_in_sys']\n",
    "y_MIN=y_MIN['time_in_sys']"
   ]
  },
  {
   "cell_type": "code",
   "execution_count": 9,
   "metadata": {},
   "outputs": [
    {
     "name": "stdout",
     "output_type": "stream",
     "text": [
      "0.018250212998\n",
      "2.5177002000000002e-05\n"
     ]
    }
   ],
   "source": [
    "y_RANGE=y_MAX-y_MIN\n",
    "print(y_RANGE)\n",
    "print(y_MIN)"
   ]
  },
  {
   "cell_type": "code",
   "execution_count": 11,
   "metadata": {},
   "outputs": [],
   "source": [
    "y1_pred = np.array(y1_pred)\n",
    "y2_pred = np.array(y2_pred)"
   ]
  },
  {
   "cell_type": "code",
   "execution_count": 13,
   "metadata": {},
   "outputs": [],
   "source": [
    "#y =y[:,0]*y_RANGE+y_MIN \n",
    "y1=y1*y_RANGE+y_MIN \n",
    "y2=y2*y_RANGE+y_MIN \n",
    "#y_pred =y_pred*y_RANGE+y_MIN \n",
    "y1_pred=y1_pred*y_RANGE+y_MIN \n",
    "y2_pred=y2_pred*y_RANGE+y_MIN "
   ]
  },
  {
   "cell_type": "code",
   "execution_count": 14,
   "metadata": {},
   "outputs": [],
   "source": [
    "#y_pred = y_pred.reshape(-1)\n",
    "y1_pred = y1_pred.reshape(-1)\n",
    "y2_pred = y2_pred.reshape(-1)"
   ]
  },
  {
   "cell_type": "code",
   "execution_count": 35,
   "metadata": {},
   "outputs": [
    {
     "data": {
      "text/plain": [
       "array([2.59865284e-05, 2.58171616e-05, 2.59362348e-05, ...,\n",
       "       2.59211919e-05, 2.58171616e-05, 2.60828903e-05])"
      ]
     },
     "execution_count": 35,
     "metadata": {},
     "output_type": "execute_result"
    }
   ],
   "source": [
    "y1"
   ]
  },
  {
   "cell_type": "code",
   "execution_count": 31,
   "metadata": {},
   "outputs": [],
   "source": [
    "# coll={'train': [131, y*1e3, y_pred*1e3], \n",
    "# 'test: endogeny': [132, y1*1e3, y1_pred*1e3],\n",
    "# 'test: exogenesis': [133, y2*1e3, y2_pred*1e3]}\n",
    "coll={\n",
    "'test: endogeny': [132, y1, y1_pred],\n",
    "'test: exogenesis': [133, y2, y2_pred]}\n"
   ]
  },
  {
   "cell_type": "code",
   "execution_count": 29,
   "metadata": {},
   "outputs": [
    {
     "name": "stdout",
     "output_type": "stream",
     "text": [
      "2.5817161599554392 5.419565\n"
     ]
    }
   ],
   "source": [
    "print(coll['test: endogeny'][1][4],coll['test: endogeny'][2][4])\n"
   ]
  },
  {
   "cell_type": "code",
   "execution_count": 22,
   "metadata": {},
   "outputs": [
    {
     "ename": "KeyError",
     "evalue": "'test1'",
     "output_type": "error",
     "traceback": [
      "\u001b[0;31m---------------------------------------------------------------------------\u001b[0m",
      "\u001b[0;31mKeyError\u001b[0m                                  Traceback (most recent call last)",
      "\u001b[0;32m<ipython-input-22-35a4c71426e1>\u001b[0m in \u001b[0;36m<module>\u001b[0;34m\u001b[0m\n\u001b[0;32m----> 1\u001b[0;31m \u001b[0mprint\u001b[0m\u001b[0;34m(\u001b[0m\u001b[0mcoll\u001b[0m\u001b[0;34m[\u001b[0m\u001b[0;34m'test1'\u001b[0m\u001b[0;34m]\u001b[0m\u001b[0;34m[\u001b[0m\u001b[0;36m2\u001b[0m\u001b[0;34m]\u001b[0m\u001b[0;34m)\u001b[0m\u001b[0;34m\u001b[0m\u001b[0;34m\u001b[0m\u001b[0m\n\u001b[0m",
      "\u001b[0;31mKeyError\u001b[0m: 'test1'"
     ]
    }
   ],
   "source": [
    "print(coll['test1'][2])"
   ]
  },
  {
   "cell_type": "code",
   "execution_count": null,
   "metadata": {},
   "outputs": [],
   "source": []
  },
  {
   "cell_type": "code",
   "execution_count": 32,
   "metadata": {},
   "outputs": [
    {
     "data": {
      "text/plain": [
       "Text(0.5, 0.98, 'regression plot\\n\\n\\n\\n\\n')"
      ]
     },
     "execution_count": 32,
     "metadata": {},
     "output_type": "execute_result"
    },
    {
     "data": {
      "image/png": "[encoded data removed]",
      "text/plain": [
       "<Figure size 1440x360 with 2 Axes>"
      ]
     },
     "metadata": {
      "needs_background": "light"
     },
     "output_type": "display_data"
    }
   ],
   "source": [
    "import matplotlib.pyplot as plt\n",
    "import scipy.stats as measures\n",
    "plt.figure(figsize=(20,5))\n",
    "for k, v in coll.items():\n",
    "    Max =max(max(v[1]),  max(v[2]))\n",
    "    plt.subplot(v[0])\n",
    "    plt.scatter(v[1], v[2],label='prediction')\n",
    "    plt.plot([0,Max],[0,Max], color='k',label='regression line')\n",
    "    plt.legend()\n",
    "    plt.xlabel('actual delay (ms)')\n",
    "    plt.ylabel('prediction')\n",
    "    plt.title('\\n\\n{}'.format(k))\n",
    "plt.suptitle('regression plot\\n\\n\\n\\n\\n')"
   ]
  },
  {
   "cell_type": "code",
   "execution_count": 54,
   "metadata": {},
   "outputs": [],
   "source": [
    "def distrib():\n",
    "    Result=pd.DataFrame(y, columns=['delay'])\n",
    "    Result['prediction']=y_pred\n",
    "    Result['error']=y_pred-y\n",
    "    Result['priority']=0\n",
    "    Result.to_csv('./data/{}/_error/train.csv'.format(base_config.modelname), index=False)\n",
    "    Result1=pd.DataFrame(y1, columns=['delay'])\n",
    "    Result1['prediction']=y1_pred\n",
    "    Result2=pd.DataFrame(y2, columns=['delay'])\n",
    "    Result2['prediction']=y2_pred\n",
    "    return Result,Result1,Result2\n",
    "    "
   ]
  },
  {
   "cell_type": "code",
   "execution_count": 55,
   "metadata": {},
   "outputs": [],
   "source": [
    "Result,Result1,Result2 =  distrib()"
   ]
  },
  {
   "cell_type": "code",
   "execution_count": 56,
   "metadata": {},
   "outputs": [],
   "source": [
    "Result.to_csv(\"tzzs_data.csv\")"
   ]
  },
  {
   "cell_type": "code",
   "execution_count": 57,
   "metadata": {},
   "outputs": [
    {
     "name": "stdout",
     "output_type": "stream",
     "text": [
      "          delay  prediction     error  priority\n",
      "0      0.000052    0.000074  0.000022         0\n",
      "1      0.000843    0.000074 -0.000770         0\n",
      "2      0.000025    0.000074  0.000049         0\n",
      "3      0.000025    0.000073  0.000048         0\n",
      "4      0.001524    0.000074 -0.001451         0\n",
      "...         ...         ...       ...       ...\n",
      "75875  0.000568    0.000071 -0.000496         0\n",
      "75876  0.001482    0.000071 -0.001411         0\n",
      "75877  0.000569    0.000073 -0.000496         0\n",
      "75878  0.000619    0.000072 -0.000547         0\n",
      "75879  0.000775    0.000073 -0.000702         0\n",
      "\n",
      "[75880 rows x 4 columns]\n"
     ]
    }
   ],
   "source": [
    "print(Result)"
   ]
  },
  {
   "cell_type": "code",
   "execution_count": 64,
   "metadata": {},
   "outputs": [],
   "source": [
    "import scipy.stats as measures\n",
    "from scipy import stats\n",
    "df = Result2 *1e3\n",
    "disp = 'train'"
   ]
  },
  {
   "cell_type": "code",
   "execution_count": 98,
   "metadata": {},
   "outputs": [
    {
     "data": {
      "text/plain": [
       "Text(0.5, 0.98, 'delay analysis: train')"
      ]
     },
     "execution_count": 98,
     "metadata": {},
     "output_type": "execute_result"
    },
    {
     "data": {
      "image/png": "[encoded data removed]",
      "text/plain": [
       "<Figure size 1152x360 with 2 Axes>"
      ]
     },
     "metadata": {
      "needs_background": "light"
     },
     "output_type": "display_data"
    }
   ],
   "source": [
    "plt.figure(figsize=(16,5))\n",
    "plt.subplot(121)\n",
    "bins=np.histogram(np.hstack((df['delay'].values, df['prediction'].values)), bins=100)[1]  \n",
    "plt.hist(df['delay'].values, bins, density=False,  histtype='step', label='delay', lw=1.5);\n",
    "plt.hist(df['prediction'].values, bins, density=False,  histtype='step', label='prediction',linestyle=':',lw=1.5);\n",
    "plt.title('pdf')\n",
    "plt.legend(frameon=False, loc=\"best\")\n",
    "\n",
    "plt.subplot(122)\n",
    "_res=stats.relfreq(df['delay'].values, numbins=100)\n",
    "res_=stats.relfreq(df['prediction'].values, numbins=100)\n",
    "_x=_res.lowerlimit + np.linspace(0, _res.binsize*_res.frequency.size, _res.frequency.size)\n",
    "_y=np.cumsum(_res.frequency)\n",
    "x_=res_.lowerlimit + np.linspace(0, res_.binsize*res_.frequency.size, res_.frequency.size)\n",
    "y_=np.cumsum(res_.frequency)\n",
    "plt.plot(_x, _y,label='delay',lw=1.5)\n",
    "plt.plot(x_, y_,  linestyle=':', label='prediction',lw=1.5)\n",
    "plt.title('cdf');\n",
    "plt.legend(frameon=False, loc=\"best\")\n",
    "plt.suptitle('delay analysis: {}'.format(disp))"
   ]
  },
  {
   "cell_type": "code",
   "execution_count": null,
   "metadata": {},
   "outputs": [],
   "source": [
    "# pdf_cdf(Result*1e3, disp='train') \n",
    "# pdf_cdf(Result1*1e3, disp='test_endogeny')   \n",
    "# pdf_cdf(Result2*1e3, disp='test_exogenesis')"
   ]
  },
  {
   "cell_type": "code",
   "execution_count": 97,
   "metadata": {},
   "outputs": [
    {
     "name": "stderr",
     "output_type": "stream",
     "text": [
      "No handles with labels found to put in legend.\n"
     ]
    },
    {
     "data": {
      "image/png": "[encoded data removed]",
      "text/plain": [
       "<Figure size 432x288 with 1 Axes>"
      ]
     },
     "metadata": {
      "needs_background": "light"
     },
     "output_type": "display_data"
    }
   ],
   "source": [
    "#########Draw learning curve\n",
    "import matplotlib.pyplot as plt\n",
    "with open(\"logs/train_same_batch.log\") as file:\n",
    "    lines = file.readlines()\n",
    "loss = []\n",
    "iterations = []\n",
    "for i in range(len(lines)):\n",
    "    iterations.append(i+1)\n",
    "    loss.append(float(lines[i].strip('\\n').split('\\t')[-1]))\n",
    "plt.plot(iterations, loss )\n",
    "plt.xlabel(\"training iterations\")\n",
    "plt.ylabel(\"MSE\")\n",
    "plt.yscale('log')\n",
    "plt.legend()\n",
    "plt.show()"
   ]
  },
  {
   "cell_type": "code",
   "execution_count": 99,
   "metadata": {},
   "outputs": [
    {
     "name": "stderr",
     "output_type": "stream",
     "text": [
      "No handles with labels found to put in legend.\n"
     ]
    },
    {
     "data": {
      "image/png": "[encoded data removed]",
      "text/plain": [
       "<Figure size 432x288 with 1 Axes>"
      ]
     },
     "metadata": {
      "needs_background": "light"
     },
     "output_type": "display_data"
    }
   ],
   "source": [
    "import matplotlib.pyplot as plt\n",
    "with open(\"logs/train_nolstm.log\") as file:\n",
    "    lines = file.readlines()\n",
    "loss = []\n",
    "iterations = []\n",
    "for i in range(len(lines)):\n",
    "    iterations.append(i+1)\n",
    "    loss.append(float(lines[i].strip('\\n').split('\\t')[-1]))\n",
    "plt.plot(iterations, loss )\n",
    "plt.xlabel(\"training iterations\")\n",
    "plt.ylabel(\"MSE\")\n",
    "plt.yscale('log')\n",
    "plt.legend()\n",
    "plt.show()"
   ]
  }
 ],
 "metadata": {
  "interpreter": {
   "hash": "b8b0c6d8b2f9f1d9881cdfc0624b07fcc7d81090589af64432159e6552b1db2d"
  },
  "kernelspec": {
   "display_name": "Python 3 (ipykernel)",
   "language": "python",
   "name": "python3"
  },
  "language_info": {
   "codemirror_mode": {
    "name": "ipython",
    "version": 3
   },
   "file_extension": ".py",
   "mimetype": "text/x-python",
   "name": "python",
   "nbconvert_exporter": "python",
   "pygments_lexer": "ipython3",
   "version": "3.6.13"
  }
 },
 "nbformat": 4,
 "nbformat_minor": 2
}
